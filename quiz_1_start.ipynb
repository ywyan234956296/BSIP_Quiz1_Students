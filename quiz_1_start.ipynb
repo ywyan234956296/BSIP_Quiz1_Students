{
 "cells": [
  {
   "cell_type": "code",
   "execution_count": 1,
   "metadata": {},
   "outputs": [],
   "source": [
    "import thinkplot\n",
    "import thinkstats2\n",
    "import pandas as pd\n",
    "import numpy as np\n",
    "import seaborn as sns"
   ]
  },
  {
   "cell_type": "markdown",
   "metadata": {},
   "source": [
    "## Quiz 1\n",
    "\n",
    "Use this file as a starting point for your work. You are free to add/import any other libaries that you may want, though you shouldn't need much more, if anything. \n",
    "\n",
    "There are multiple approaches to solve each of the challenges. It is probably easiest to create a function that calculates a generic version of a solution, then takes in arguments for which data to use. There is an example of one of the functions I used to make a solution below. \n",
    "\n",
    "Please push you finished work into a repository on your github and paste the link in the final question. The responses on Moodle are what is graded, but your code will be glanced at to ensure you actually did the work and didn't do the calculations somewhere else. "
   ]
  },
  {
   "cell_type": "markdown",
   "metadata": {},
   "source": [
    "### Example Function"
   ]
  },
  {
   "cell_type": "code",
   "execution_count": 2,
   "metadata": {},
   "outputs": [],
   "source": [
    "# Here is the framework of my function for the first set of challenges\n",
    "\n",
    "#def rangeMag(df_in, columnName):\n",
    "# ...SOME CODE THAT CALCULATES STUFF...\n",
    "#    return retVal\n",
    "\n",
    "# When calling the function to use the code, it would look like this...\n",
    "\n",
    "# Nodeg\n",
    "#print(rangeMag(df, \"Nodeg\"))\n",
    "# Earnings_1974\n",
    "#print(rangeMag(df, \"Earnings_1974\"))\n",
    "# Earnings_1975\n",
    "#print(rangeMag(df, \"Earnings_1975\"))\n",
    "# Earnings_1978\n",
    "#print(rangeMag(df, \"Earnings_1978\"))\n"
   ]
  },
  {
   "cell_type": "markdown",
   "metadata": {},
   "source": [
    "### Load Some Data"
   ]
  },
  {
   "cell_type": "code",
   "execution_count": 2,
   "metadata": {},
   "outputs": [
    {
     "data": {
      "text/html": [
       "<div>\n",
       "<style scoped>\n",
       "    .dataframe tbody tr th:only-of-type {\n",
       "        vertical-align: middle;\n",
       "    }\n",
       "\n",
       "    .dataframe tbody tr th {\n",
       "        vertical-align: top;\n",
       "    }\n",
       "\n",
       "    .dataframe thead th {\n",
       "        text-align: right;\n",
       "    }\n",
       "</style>\n",
       "<table border=\"1\" class=\"dataframe\">\n",
       "  <thead>\n",
       "    <tr style=\"text-align: right;\">\n",
       "      <th></th>\n",
       "      <th>Age</th>\n",
       "      <th>Eduacation</th>\n",
       "      <th>Race</th>\n",
       "      <th>Hisp</th>\n",
       "      <th>MaritalStatus</th>\n",
       "      <th>Nodeg</th>\n",
       "      <th>Earnings_1974</th>\n",
       "      <th>Earnings_1975</th>\n",
       "      <th>Earnings_1978</th>\n",
       "    </tr>\n",
       "  </thead>\n",
       "  <tbody>\n",
       "    <tr>\n",
       "      <th>0</th>\n",
       "      <td>45</td>\n",
       "      <td>LessThanHighSchool</td>\n",
       "      <td>NotBlack</td>\n",
       "      <td>NotHispanic</td>\n",
       "      <td>Married</td>\n",
       "      <td>1</td>\n",
       "      <td>21516.670</td>\n",
       "      <td>25243.550</td>\n",
       "      <td>25564.670</td>\n",
       "    </tr>\n",
       "    <tr>\n",
       "      <th>1</th>\n",
       "      <td>21</td>\n",
       "      <td>Intermediate</td>\n",
       "      <td>NotBlack</td>\n",
       "      <td>NotHispanic</td>\n",
       "      <td>NotMarried</td>\n",
       "      <td>0</td>\n",
       "      <td>3175.971</td>\n",
       "      <td>5852.565</td>\n",
       "      <td>13496.080</td>\n",
       "    </tr>\n",
       "    <tr>\n",
       "      <th>2</th>\n",
       "      <td>38</td>\n",
       "      <td>HighSchool</td>\n",
       "      <td>NotBlack</td>\n",
       "      <td>NotHispanic</td>\n",
       "      <td>Married</td>\n",
       "      <td>0</td>\n",
       "      <td>23039.020</td>\n",
       "      <td>25130.760</td>\n",
       "      <td>25564.670</td>\n",
       "    </tr>\n",
       "    <tr>\n",
       "      <th>3</th>\n",
       "      <td>48</td>\n",
       "      <td>LessThanHighSchool</td>\n",
       "      <td>NotBlack</td>\n",
       "      <td>NotHispanic</td>\n",
       "      <td>Married</td>\n",
       "      <td>1</td>\n",
       "      <td>24994.370</td>\n",
       "      <td>25243.550</td>\n",
       "      <td>25564.670</td>\n",
       "    </tr>\n",
       "    <tr>\n",
       "      <th>4</th>\n",
       "      <td>18</td>\n",
       "      <td>LessThanHighSchool</td>\n",
       "      <td>NotBlack</td>\n",
       "      <td>NotHispanic</td>\n",
       "      <td>Married</td>\n",
       "      <td>1</td>\n",
       "      <td>1669.295</td>\n",
       "      <td>10727.610</td>\n",
       "      <td>9860.869</td>\n",
       "    </tr>\n",
       "  </tbody>\n",
       "</table>\n",
       "</div>"
      ],
      "text/plain": [
       "   Age          Eduacation      Race         Hisp MaritalStatus  Nodeg  \\\n",
       "0   45  LessThanHighSchool  NotBlack  NotHispanic       Married      1   \n",
       "1   21        Intermediate  NotBlack  NotHispanic    NotMarried      0   \n",
       "2   38          HighSchool  NotBlack  NotHispanic       Married      0   \n",
       "3   48  LessThanHighSchool  NotBlack  NotHispanic       Married      1   \n",
       "4   18  LessThanHighSchool  NotBlack  NotHispanic       Married      1   \n",
       "\n",
       "   Earnings_1974  Earnings_1975  Earnings_1978  \n",
       "0      21516.670      25243.550      25564.670  \n",
       "1       3175.971       5852.565      13496.080  \n",
       "2      23039.020      25130.760      25564.670  \n",
       "3      24994.370      25243.550      25564.670  \n",
       "4       1669.295      10727.610       9860.869  "
      ]
     },
     "execution_count": 2,
     "metadata": {},
     "output_type": "execute_result"
    }
   ],
   "source": [
    "df = pd.read_csv(\"LabourTrainingEvaluationData.csv\")\n",
    "df.head()"
   ]
  },
  {
   "cell_type": "markdown",
   "metadata": {},
   "source": [
    "### Challenge 1 - Magnitude of Range"
   ]
  },
  {
   "cell_type": "code",
   "execution_count": 7,
   "metadata": {},
   "outputs": [
    {
     "name": "stdout",
     "output_type": "stream",
     "text": [
      "0 1\n",
      "0.0 25862.32\n",
      "0.0 25243.55\n",
      "0.0 25564.67\n"
     ]
    }
   ],
   "source": [
    "print(df['Nodeg'].min(), df['Nodeg'].max())\n",
    "print(df['Earnings_1974'].min(), df['Earnings_1974'].max())\n",
    "print(df['Earnings_1975'].min(), df['Earnings_1975'].max())\n",
    "print(df['Earnings_1978'].min(), df['Earnings_1978'].max())"
   ]
  },
  {
   "cell_type": "markdown",
   "metadata": {},
   "source": [
    "### Challenge 2 - Percent of Values Above a Value"
   ]
  },
  {
   "cell_type": "code",
   "execution_count": 17,
   "metadata": {},
   "outputs": [
    {
     "name": "stdout",
     "output_type": "stream",
     "text": [
      "35.76788394197098\n",
      "27.282391195597796\n",
      "median: 14557.11\n",
      "55.21510755377689\n"
     ]
    }
   ],
   "source": [
    "def PercentileRank(data, your_score):\n",
    "    count = 0\n",
    "    for score in data:\n",
    "        if score <= your_score:\n",
    "            count += 1\n",
    "\n",
    "    percentile_rank = 100.0 * count / len(data)\n",
    "    return percentile_rank\n",
    "\n",
    "prob=PercentileRank(df['Earnings_1974'],20000)\n",
    "print(100-prob)\n",
    "prob=PercentileRank(df['Earnings_1978'],25000)\n",
    "print(100-prob)\n",
    "#median earning of people's earning in 1975\n",
    "print('median:',df['Earnings_1975'].median())\n",
    "\n",
    "prob=PercentileRank(df['Earnings_1978'],df['Earnings_1975'].median())\n",
    "print(100-prob)"
   ]
  },
  {
   "cell_type": "markdown",
   "metadata": {},
   "source": [
    "### Challenge 3 - Mean of Differences"
   ]
  },
  {
   "cell_type": "code",
   "execution_count": 23,
   "metadata": {},
   "outputs": [
    {
     "name": "stdout",
     "output_type": "stream",
     "text": [
      "0.0\n",
      "-829.8593687148423\n"
     ]
    }
   ],
   "source": [
    "#What is the mean of the differences between Earnings_1975 and Earnings_1975?\n",
    "difference=df['Earnings_1975'].mean()-df['Earnings_1975'].mean()\n",
    "print(difference)\n",
    "difference1=df['Earnings_1974'].mean()-df['Earnings_1978'].mean()\n",
    "print(difference1)\n"
   ]
  },
  {
   "cell_type": "markdown",
   "metadata": {},
   "source": [
    "### Challenge 4 - Count of Values in Range"
   ]
  },
  {
   "cell_type": "code",
   "execution_count": 47,
   "metadata": {},
   "outputs": [
    {
     "name": "stdout",
     "output_type": "stream",
     "text": [
      "5895\n",
      "8043\n",
      "15992\n"
     ]
    }
   ],
   "source": [
    "a=df[df['Earnings_1974']<10000]\n",
    "b=df[df['Earnings_1974']>15000]\n",
    "c=df['Age'].count()\n",
    "print(a['Age'].count())\n",
    "print(b['Age'].count())\n",
    "print(df['Age'].count())\n",
    "\n",
    "\n"
   ]
  },
  {
   "cell_type": "code",
   "execution_count": 48,
   "metadata": {},
   "outputs": [
    {
     "name": "stdout",
     "output_type": "stream",
     "text": [
      "733\n",
      "14039\n",
      "15992\n"
     ]
    }
   ],
   "source": [
    "a=df[df['Age']<18]\n",
    "b=df[df['Earnings_1974']>49]\n",
    "c=df['Age'].count()\n",
    "print(a['Age'].count())\n",
    "print(b['Age'].count())\n",
    "print(df['Age'].count())"
   ]
  },
  {
   "cell_type": "code",
   "execution_count": 62,
   "metadata": {},
   "outputs": [
    {
     "name": "stdout",
     "output_type": "stream",
     "text": [
      "14846.659672906011\n",
      "16421.975\n"
     ]
    },
    {
     "data": {
      "text/html": [
       "<div>\n",
       "<style scoped>\n",
       "    .dataframe tbody tr th:only-of-type {\n",
       "        vertical-align: middle;\n",
       "    }\n",
       "\n",
       "    .dataframe tbody tr th {\n",
       "        vertical-align: top;\n",
       "    }\n",
       "\n",
       "    .dataframe thead th {\n",
       "        text-align: right;\n",
       "    }\n",
       "</style>\n",
       "<table border=\"1\" class=\"dataframe\">\n",
       "  <thead>\n",
       "    <tr style=\"text-align: right;\">\n",
       "      <th></th>\n",
       "      <th>Age</th>\n",
       "      <th>Nodeg</th>\n",
       "      <th>Earnings_1974</th>\n",
       "      <th>Earnings_1975</th>\n",
       "      <th>Earnings_1978</th>\n",
       "    </tr>\n",
       "  </thead>\n",
       "  <tbody>\n",
       "    <tr>\n",
       "      <th>count</th>\n",
       "      <td>297.000000</td>\n",
       "      <td>297.000000</td>\n",
       "      <td>297.000000</td>\n",
       "      <td>297.000000</td>\n",
       "      <td>297.000000</td>\n",
       "    </tr>\n",
       "    <tr>\n",
       "      <th>mean</th>\n",
       "      <td>24.087542</td>\n",
       "      <td>0.158249</td>\n",
       "      <td>11011.455427</td>\n",
       "      <td>11412.860830</td>\n",
       "      <td>15592.119933</td>\n",
       "    </tr>\n",
       "    <tr>\n",
       "      <th>std</th>\n",
       "      <td>2.857969</td>\n",
       "      <td>0.365590</td>\n",
       "      <td>6389.168447</td>\n",
       "      <td>5957.487438</td>\n",
       "      <td>450.626287</td>\n",
       "    </tr>\n",
       "    <tr>\n",
       "      <th>min</th>\n",
       "      <td>20.000000</td>\n",
       "      <td>0.000000</td>\n",
       "      <td>0.000000</td>\n",
       "      <td>0.000000</td>\n",
       "      <td>14851.150000</td>\n",
       "    </tr>\n",
       "    <tr>\n",
       "      <th>25%</th>\n",
       "      <td>22.000000</td>\n",
       "      <td>0.000000</td>\n",
       "      <td>5644.648000</td>\n",
       "      <td>7472.806000</td>\n",
       "      <td>15193.980000</td>\n",
       "    </tr>\n",
       "    <tr>\n",
       "      <th>50%</th>\n",
       "      <td>24.000000</td>\n",
       "      <td>0.000000</td>\n",
       "      <td>11500.900000</td>\n",
       "      <td>12235.060000</td>\n",
       "      <td>15576.720000</td>\n",
       "    </tr>\n",
       "    <tr>\n",
       "      <th>75%</th>\n",
       "      <td>27.000000</td>\n",
       "      <td>0.000000</td>\n",
       "      <td>15576.170000</td>\n",
       "      <td>14967.100000</td>\n",
       "      <td>15952.060000</td>\n",
       "    </tr>\n",
       "    <tr>\n",
       "      <th>max</th>\n",
       "      <td>29.000000</td>\n",
       "      <td>1.000000</td>\n",
       "      <td>25862.320000</td>\n",
       "      <td>25243.550000</td>\n",
       "      <td>16407.200000</td>\n",
       "    </tr>\n",
       "  </tbody>\n",
       "</table>\n",
       "</div>"
      ],
      "text/plain": [
       "              Age       Nodeg  Earnings_1974  Earnings_1975  Earnings_1978\n",
       "count  297.000000  297.000000     297.000000     297.000000     297.000000\n",
       "mean    24.087542    0.158249   11011.455427   11412.860830   15592.119933\n",
       "std      2.857969    0.365590    6389.168447    5957.487438     450.626287\n",
       "min     20.000000    0.000000       0.000000       0.000000   14851.150000\n",
       "25%     22.000000    0.000000    5644.648000    7472.806000   15193.980000\n",
       "50%     24.000000    0.000000   11500.900000   12235.060000   15576.720000\n",
       "75%     27.000000    0.000000   15576.170000   14967.100000   15952.060000\n",
       "max     29.000000    1.000000   25862.320000   25243.550000   16407.200000"
      ]
     },
     "execution_count": 62,
     "metadata": {},
     "output_type": "execute_result"
    }
   ],
   "source": [
    "\n",
    "df1 = df[df['Age'].between(20, 29)]\n",
    "print(df['Earnings_1978'].mean())\n",
    "print(df['Earnings_1978'].median())\n",
    "df2=df1[df1['Earnings_1978'].between(14846.659672906011,16421.975)]\n",
    "df2.describe()"
   ]
  },
  {
   "cell_type": "markdown",
   "metadata": {},
   "source": [
    "### Challenge 5 - Basic Stats Calculations"
   ]
  },
  {
   "cell_type": "code",
   "execution_count": 52,
   "metadata": {},
   "outputs": [
    {
     "name": "stdout",
     "output_type": "stream",
     "text": [
      "91580993.44097105\n",
      "85940375.95151532\n",
      "93072163.22421418\n"
     ]
    }
   ],
   "source": [
    "print(df['Earnings_1974'].var())\n",
    "print(df['Earnings_1975'].var())\n",
    "print(df['Earnings_1978'].var())\n"
   ]
  },
  {
   "cell_type": "code",
   "execution_count": 55,
   "metadata": {},
   "outputs": [
    {
     "name": "stdout",
     "output_type": "stream",
     "text": [
      "-1106.779695808831\n",
      "-906.3066239268392\n",
      "-1575.3153270939874\n"
     ]
    }
   ],
   "source": [
    "print(df['Earnings_1974'].mean()-df['Earnings_1974'].median())\n",
    "print(df['Earnings_1975'].mean()-df['Earnings_1975'].median())\n",
    "print(df['Earnings_1978'].mean()-df['Earnings_1978'].median())"
   ]
  },
  {
   "cell_type": "markdown",
   "metadata": {},
   "source": [
    "### Challenge 6 - Cohort Calculations\n",
    "\n",
    "Here is some sample code that may be helpful:\n",
    "\n",
    "```python\n",
    "#Modification of cohort code to send back a tuple of results. \n",
    "#You could do this more manually as well.\n",
    "def cohort(df_in, cohort1, cohort2, cohort3, earningsColumn):\n",
    "    df_in[\"Cohort\"] = (df_in[cohort1]+df_in[cohort2]+df_in[cohort3])\n",
    "    cohortList = df_in[\"Cohort\"].unique()\n",
    "    i = 0\n",
    "    resList = []\n",
    "    while i < cohortList.size:\n",
    "        tmp = df_in[df_in.Cohort == cohortList[i]]\n",
    "        histTmp = thinkstats2.Hist(round(tmp[earningsColumn], -3))\n",
    "        resList.append((histTmp, cohortList[i], tmp[earningsColumn].median()))\n",
    "        i = i + 1\n",
    "    return resList\n",
    "```"
   ]
  },
  {
   "cell_type": "code",
   "execution_count": null,
   "metadata": {},
   "outputs": [],
   "source": []
  }
 ],
 "metadata": {
  "kernelspec": {
   "display_name": "Python 3.8.5 ('base')",
   "language": "python",
   "name": "python3"
  },
  "language_info": {
   "codemirror_mode": {
    "name": "ipython",
    "version": 3
   },
   "file_extension": ".py",
   "mimetype": "text/x-python",
   "name": "python",
   "nbconvert_exporter": "python",
   "pygments_lexer": "ipython3",
   "version": "3.8.5"
  },
  "orig_nbformat": 4,
  "vscode": {
   "interpreter": {
    "hash": "6c73b629626b7eb229adde691ec5328deb338baef59729ec19d8000960810818"
   }
  }
 },
 "nbformat": 4,
 "nbformat_minor": 2
}
